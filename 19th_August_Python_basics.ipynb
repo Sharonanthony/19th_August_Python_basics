{
 "cells": [
  {
   "cell_type": "code",
   "execution_count": 1,
   "id": "addfe86a-14ae-4dcd-b876-98385aa913c8",
   "metadata": {},
   "outputs": [],
   "source": [
    "#Python Basic VAriable"
   ]
  },
  {
   "cell_type": "code",
   "execution_count": 36,
   "id": "dd0421a4-1124-45d1-9b90-b1b3f3aeac62",
   "metadata": {},
   "outputs": [
    {
     "name": "stdout",
     "output_type": "stream",
     "text": [
      "8\n",
      "5\n"
     ]
    }
   ],
   "source": [
    "#1. Declare two variables, `x` and `y`, and assign them integer values. Swap the\n",
    "#values of these variables without using any temporary variable.\n",
    "\n",
    "x= 5\n",
    "y=8\n",
    "x=x+y # adding two values and storing in y\n",
    "y=x-y # value of y will be sum of two values stored in x - its declare y value\n",
    "x=x-y # calue of x is  sum of two values stored in x - its new value of y\n",
    "print(x)\n",
    "print(y)"
   ]
  },
  {
   "cell_type": "code",
   "execution_count": 35,
   "id": "cdb67036-0460-47f5-a281-4722a8944b38",
   "metadata": {},
   "outputs": [
    {
     "name": "stdin",
     "output_type": "stream",
     "text": [
      "Enter the length of the rectangle:-   5\n",
      "Enter the width of the rectangle:-   4\n"
     ]
    },
    {
     "name": "stdout",
     "output_type": "stream",
     "text": [
      "The area of the rectangle is  20.0\n"
     ]
    }
   ],
   "source": [
    "#2. Create a program that calculates the area of a rectangle. Take the length and\n",
    "# width as inputs from the user and store them in variables. Calculate and\n",
    "# display the area.\n",
    "\n",
    "length= float(input(\"Enter the length of the rectangle:-  \"))\n",
    "width= float(input(\"Enter the width of the rectangle:-  \"))\n",
    "\n",
    "#Area of rectangle\n",
    "\n",
    "area = length* width\n",
    "print(\"The area of the rectangle is \", area)\n",
    "            "
   ]
  },
  {
   "cell_type": "code",
   "execution_count": 39,
   "id": "b1831acd-3a6a-4da1-a77c-07e858e81b20",
   "metadata": {},
   "outputs": [
    {
     "name": "stdin",
     "output_type": "stream",
     "text": [
      "Enter the temperature in Celsius:-  34\n"
     ]
    },
    {
     "name": "stdout",
     "output_type": "stream",
     "text": [
      "The temperature in Fahrenheit is  93.2\n"
     ]
    }
   ],
   "source": [
    "#3.Write a Python program that converts temperatures from Celsius to\n",
    "#Fahrenheit. Take the temperature in Celsius as input, store it in a variable,\n",
    "#convert it to Fahrenheit, and display the result.\n",
    "\n",
    "temp= float(input(\"Enter the temperature in Celsius:- \"))\n",
    "\n",
    "#converting tempertaure to fahrenheit\n",
    "a=  temp* 1.8\n",
    "new_temp= a+ 32\n",
    "\n",
    "print(\"The temperature in Fahrenheit is \", new_temp)\n"
   ]
  },
  {
   "cell_type": "code",
   "execution_count": 40,
   "id": "3e67e701-2caf-465a-a95b-92baaf7007d8",
   "metadata": {},
   "outputs": [],
   "source": [
    "#TOPIC: String Based Questions\n"
   ]
  },
  {
   "cell_type": "code",
   "execution_count": 41,
   "id": "fdc7816f-9560-4fb3-994b-d27b8a67ce93",
   "metadata": {},
   "outputs": [
    {
     "name": "stdin",
     "output_type": "stream",
     "text": [
      "Enter a string:-  Sharon\n"
     ]
    },
    {
     "name": "stdout",
     "output_type": "stream",
     "text": [
      "6\n"
     ]
    }
   ],
   "source": [
    "#1. Write a Python program that takes a string as input and prints the length of\n",
    "# the string.\n",
    "\n",
    "a= input(\"Enter a string:- \")\n",
    "b= len(a)\n",
    "print(b)"
   ]
  },
  {
   "cell_type": "code",
   "execution_count": 48,
   "id": "7b8aa292-1044-4498-88f1-d12e8d972911",
   "metadata": {},
   "outputs": [
    {
     "name": "stdin",
     "output_type": "stream",
     "text": [
      "Enter a sentence :-  It is a bright sunny day but I am down\n"
     ]
    },
    {
     "name": "stdout",
     "output_type": "stream",
     "text": [
      "The number of vowels in the given sentence is  10\n"
     ]
    }
   ],
   "source": [
    "# 2.Create a program that takes a sentence from the user and counts the number\n",
    "# of vowels (a, e, i, o, u) in the string.\n",
    "\n",
    "b= input(\"Enter a sentence :- \")\n",
    "c= b.lower()\n",
    "vowels= 0\n",
    "for i in c:\n",
    "    if (i=='a' or i=='e' or i=='i' or i=='o' or i=='u'):\n",
    "        vowels= vowels+1\n",
    "print(\"The number of vowels in the given sentence is \", vowels)\n"
   ]
  },
  {
   "cell_type": "code",
   "execution_count": 49,
   "id": "531f58e1-b85f-409e-8d88-8899acc4aa21",
   "metadata": {},
   "outputs": [
    {
     "name": "stdout",
     "output_type": "stream",
     "text": [
      "norahS\n"
     ]
    }
   ],
   "source": [
    "#3.Given a string, reverse the order of characters using string slicing and print\n",
    "#the reversed string.\n",
    "\n",
    "a= \"Sharon\"\n",
    "print(a[-1:-7:-1])"
   ]
  },
  {
   "cell_type": "code",
   "execution_count": 53,
   "id": "6a5f11c3-946e-42f5-ac60-8d60ac3f4729",
   "metadata": {},
   "outputs": [
    {
     "name": "stdin",
     "output_type": "stream",
     "text": [
      "Enter a string:-  Malayalam\n"
     ]
    },
    {
     "name": "stdout",
     "output_type": "stream",
     "text": [
      "The given string is a palindrome\n"
     ]
    }
   ],
   "source": [
    "#4. Write a program that takes a string as input and checks if it is a palindrome\n",
    "# (reads the same forwards and backwards).\n",
    "\n",
    "a= input(\"Enter a string:- \")\n",
    "b= a.lower()\n",
    "c= b[: : -1]\n",
    "if b==c:\n",
    "    print(\"The given string is a palindrome\")\n",
    "else:\n",
    "    print(\"The given string is not a palindrome\")\n",
    "    "
   ]
  },
  {
   "cell_type": "code",
   "execution_count": 55,
   "id": "cc27ec37-d477-403d-8508-351eb1c303be",
   "metadata": {},
   "outputs": [
    {
     "name": "stdin",
     "output_type": "stream",
     "text": [
      "Enter a string:-  h ello\n"
     ]
    },
    {
     "name": "stdout",
     "output_type": "stream",
     "text": [
      "hello\n"
     ]
    }
   ],
   "source": [
    "# 5. Create a program that takes a string as input and removes all the spaces from\n",
    "# it. Print the modified string without spaces.\n",
    "\n",
    "a= input(\"Enter a string:- \")\n",
    "b= a.replace(\" \",\"\")\n",
    "print(b)"
   ]
  },
  {
   "cell_type": "code",
   "execution_count": null,
   "id": "50214937-b068-4143-9cf9-bb6ae2c8e975",
   "metadata": {},
   "outputs": [],
   "source": []
  }
 ],
 "metadata": {
  "kernelspec": {
   "display_name": "Python 3 (ipykernel)",
   "language": "python",
   "name": "python3"
  },
  "language_info": {
   "codemirror_mode": {
    "name": "ipython",
    "version": 3
   },
   "file_extension": ".py",
   "mimetype": "text/x-python",
   "name": "python",
   "nbconvert_exporter": "python",
   "pygments_lexer": "ipython3",
   "version": "3.10.8"
  }
 },
 "nbformat": 4,
 "nbformat_minor": 5
}
